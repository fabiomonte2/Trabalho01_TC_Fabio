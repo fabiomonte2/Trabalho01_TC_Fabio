{
  "nbformat": 4,
  "nbformat_minor": 0,
  "metadata": {
    "colab": {
      "provenance": []
    },
    "kernelspec": {
      "name": "python3",
      "display_name": "Python 3"
    },
    "language_info": {
      "name": "python"
    }
  },
  "cells": [
    {
      "cell_type": "markdown",
      "source": [
        "## Solução 01\n"
      ],
      "metadata": {
        "id": "JfgtC182fH0T"
      }
    },
    {
      "cell_type": "code",
      "source": [
        "with open(__file__) as f:\n",
        "    code = f.read()\n",
        "\n",
        "print(code + code)"
      ],
      "metadata": {
        "id": "wJpxXOkGfLmp"
      },
      "execution_count": null,
      "outputs": []
    },
    {
      "cell_type": "markdown",
      "source": [
        "##Solução 02"
      ],
      "metadata": {
        "id": "AQERwpK1f1Iz"
      }
    },
    {
      "cell_type": "code",
      "source": [
        "##solução (a)\n",
        "def is_palindrome(w):\n",
        "    i = 0\n",
        "    j = len(w) - 1\n",
        "    while i < j:\n",
        "        if w[i] != w[j]:\n",
        "            return False\n",
        "        i += 1\n",
        "        j -= 1\n",
        "    return True\n"
      ],
      "metadata": {
        "id": "xzqlbOSDlv_K"
      },
      "execution_count": null,
      "outputs": []
    },
    {
      "cell_type": "code",
      "source": [
        "##solução (b)\n",
        "def N(w):\n",
        "    x = codifica_descricao(N)\n",
        "    if M(x):\n",
        "        while True:\n",
        "            continue\n",
        "    else:\n",
        "        return\n"
      ],
      "metadata": {
        "id": "vhdmkzvMfz-U"
      },
      "execution_count": null,
      "outputs": []
    },
    {
      "cell_type": "markdown",
      "source": [
        "## Solução 3\n",
        "\n"
      ],
      "metadata": {
        "id": "y8xgERvLmn1M"
      }
    },
    {
      "cell_type": "code",
      "source": [
        "def spcp(dominos):\n",
        "    # Verifica se todos os dominós têm o mesmo tamanho\n",
        "    size = len(dominos[0][0])\n",
        "    for top, bottom in dominos:\n",
        "        if len(top) != size or len(bottom) != size:\n",
        "            return False\n",
        "    \n",
        "    # Testa todas as possíveis sequências de dominós\n",
        "    n = len(dominos)\n",
        "    for seq in itertools.product(range(n), repeat=n):\n",
        "        top = ''.join([dominos[i][0] for i in seq])\n",
        "        bottom = ''.join([dominos[i][1] for i in seq])\n",
        "        if top == bottom:\n",
        "            return True\n",
        "    \n",
        "    # Não foi encontrada nenhuma sequência que satisfaça a condição\n",
        "    return False\n"
      ],
      "metadata": {
        "id": "nsAcWMj9my5s"
      },
      "execution_count": null,
      "outputs": []
    },
    {
      "cell_type": "markdown",
      "source": [
        "## solução 4"
      ],
      "metadata": {
        "id": "o5puIkl4n2Qc"
      }
    },
    {
      "cell_type": "code",
      "source": [
        "zero = lambda x: lambda y: y\n",
        "um = lambda x: lambda y: x\n",
        "ALT = lambda a: lambda b: lambda c: a(b(um(c)(um(um)(zero))), b(c(zero)(zero)))\n",
        "# ALT é a expressão lambda que computa a função \"pelo menos dois\"\n",
        "\n",
        "# prova de que ALT é uma expressão lambda que computa a função \"pelo menos dois\"\n",
        "for a in [zero, um]:\n",
        "  for b in [zero, um]:\n",
        "    for c in [zero, um]:\n",
        "      resultado = ALT(a)(b)(c)\n",
        "      contagem_1 = 0\n",
        "      if resultado(um) == um: contagem_1 += 1\n",
        "      if resultado(zero)(um) == um: contagem_1 += 1\n",
        "      if resultado(zero)(zero)(um) == um: contagem_1 += 1\n",
        "      if contagem_1 >= 2:\n",
        "        assert resultado == um\n",
        "      else:\n",
        "        assert resultado == zero"
      ],
      "metadata": {
        "id": "3v947T3En5yk"
      },
      "execution_count": null,
      "outputs": []
    },
    {
      "cell_type": "markdown",
      "source": [
        "## Solução 5"
      ],
      "metadata": {
        "id": "b5IgD5Dqu3i0"
      }
    },
    {
      "cell_type": "code",
      "source": [
        "# Definindo a codificação de Church para números naturais\n",
        "zero = lambda f: lambda x: x\n",
        "succ = lambda n: lambda f: lambda x: f(n(f)(x))\n",
        "church_encode = lambda n: zero if n == 0 else succ(church_encode(n-1))\n",
        "\n",
        "# Definindo a função MIN\n",
        "MIN = lambda l: (\n",
        "    lambda f: lambda x: lambda y: f(y)(x)\n",
        ")(\n",
        "    lambda p: lambda q: p if p < q else q\n",
        ")(\n",
        "    l(lambda x: lambda y: (\n",
        "        lambda p: lambda q: (p, q)\n",
        "    )(\n",
        "        x\n",
        "    )(\n",
        "        y\n",
        "    ))\n",
        ")(church_encode(float('inf')))\n",
        "##  (a)Definindo a função MAX\n",
        "MAX = lambda l: (\n",
        "    lambda f: lambda x: lambda y: f(y)(x)\n",
        ")(\n",
        "    lambda p: lambda q: p if p > q else q\n",
        ")(\n",
        "    l(lambda x: lambda y: (\n",
        "        lambda p: lambda q: (p, q)\n",
        "    )(\n",
        "        x\n",
        "    )(\n",
        "        y\n",
        "    ))\n",
        ")(church_encode(float('-inf')))\n",
        "\n"
      ],
      "metadata": {
        "id": "6s4zxy0ms-GH"
      },
      "execution_count": null,
      "outputs": []
    },
    {
      "cell_type": "markdown",
      "source": [
        "##Solução 6"
      ],
      "metadata": {
        "id": "W-czcE6OpdhE"
      }
    },
    {
      "cell_type": "code",
      "source": [
        "## MIN\n",
        "min = lambda l: (lambda f: lambda x: lambda y: f(y)(x))(\n",
        "    lambda p: lambda q: true if p < q else false\n",
        ")(\n",
        "    l(lambda x: lambda y: (lambda p: lambda q: cons(p, q))(\n",
        "        x)(\n",
        "        y))(pair(zero)(zero))\n",
        ")[0]\n"
      ],
      "metadata": {
        "id": "HmMebCy7pkDM"
      },
      "execution_count": null,
      "outputs": []
    },
    {
      "cell_type": "code",
      "source": [
        "## MAX\n",
        "max = lambda l: (lambda f: lambda x: lambda y: f(y)(x))(\n",
        "    lambda p: lambda q: true if p > q else false\n",
        ")(\n",
        "    l(lambda x: lambda y: (lambda p: lambda q: cons(p, q))(\n",
        "        x)(\n",
        "        y))(pair(zero)(zero))\n",
        ")[0]\n"
      ],
      "metadata": {
        "id": "FSf9hvFasfms"
      },
      "execution_count": null,
      "outputs": []
    },
    {
      "cell_type": "code",
      "source": [
        "## APPEND\n",
        "append = lambda l1: lambda l2: (lambda f: lambda x: f(l1)(l2)(x))(\n",
        "    lambda l1: lambda l2: lambda k: lambda z: l1(k)(l2(k)(z))\n",
        ")(empty_list)"
      ],
      "metadata": {
        "id": "c5LPZPslsmty"
      },
      "execution_count": null,
      "outputs": []
    },
    {
      "cell_type": "code",
      "source": [
        "## REVERSE\n",
        "\n",
        "reverse = lambda l: (lambda f: lambda x: lambda y: f(y)(x))(\n",
        "    lambda p: lambda q: cons(q, p)\n",
        ")(\n",
        "    l(lambda x: lambda y: (lambda p: lambda q: cons(q, p))(\n",
        "        x)(\n",
        "        y))(empty_list)\n",
        ")"
      ],
      "metadata": {
        "id": "FXUz2AHhs0Ds"
      },
      "execution_count": null,
      "outputs": []
    }
  ]
}